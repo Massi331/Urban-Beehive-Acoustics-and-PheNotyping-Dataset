{
 "cells": [
  {
   "cell_type": "code",
   "execution_count": null,
   "id": "4f3b2a44",
   "metadata": {},
   "outputs": [],
   "source": [
    "import os\n",
    "import sys\n",
    "import datetime\n",
    "from time import gmtime\n",
    "from time import strftime\n",
    "from pathlib import Path\n",
    "from datetime import timedelta  \n",
    "import numpy as np\n",
    "import matplotlib.pyplot as plt\n",
    "import seaborn as sns\n",
    "import pandas as pd\n",
    "from scipy import signal\n",
    "import pickle\n",
    "import librosa\n",
    "import librosa.display\n",
    "from sklearn.model_selection import train_test_split\n",
    "from feature_extraction import feature_extraction, extract_statistic\n",
    "\n",
    "from regression_analysis import random_split_evaluation, independent_split_evaluation, random_baseline_metrics\n",
    "from regression_analysis import evaluate_model_performance\n",
    "\n",
    "import scipy\n",
    "import scipy.signal\n",
    "import scipy.fftpack\n",
    "\n",
    "if not sys.warnoptions:\n",
    "    import warnings\n",
    "    warnings.simplefilter(\"ignore\")\n",
    "\n",
    "%load_ext autoreload\n",
    "%autoreload 2\n"
   ]
  },
  {
   "cell_type": "markdown",
   "id": "5bb52ae5",
   "metadata": {},
   "source": [
    "# Labels 2021"
   ]
  },
  {
   "cell_type": "code",
   "execution_count": null,
   "id": "95e627b9",
   "metadata": {},
   "outputs": [],
   "source": [
    "data = pd.read_csv(\"../data/annotations/inspections_2021.csv\")\n",
    "data.info()"
   ]
  },
  {
   "cell_type": "code",
   "execution_count": null,
   "id": "e84df7bc",
   "metadata": {},
   "outputs": [],
   "source": [
    "data = data.fillna(0)\n",
    "data['Date'] = pd.to_datetime(data['Date'])\n",
    "unique_hives = data['Tag number'].unique()\n",
    "unique_hives"
   ]
  },
  {
   "cell_type": "code",
   "execution_count": null,
   "id": "8a04b76f",
   "metadata": {},
   "outputs": [],
   "source": [
    "grouped = data.groupby(['Tag number'])\n",
    "dict_hives = {}\n",
    "for i in unique_hives:\n",
    "        dict_hives[i] = grouped.get_group(i)"
   ]
  },
  {
   "cell_type": "code",
   "execution_count": null,
   "id": "69c148d4",
   "metadata": {},
   "outputs": [],
   "source": [
    "for hive in  data['Tag number'].unique():\n",
    "    dict_hives[hive] = dict_hives[hive].set_index(dict_hives[hive]['Date'])\n",
    "    idx = pd.date_range(dict_hives[hive].index.min(), dict_hives[hive].index.max()+ timedelta(days=1), freq=\"15min\")#  + timedelta(days=12)\n",
    "    dict_hives[hive] = dict_hives[hive].reindex(idx)\n",
    "    dict_hives[hive] = dict_hives[hive].drop(['Date'], axis=1)\n",
    "    dict_hives[hive] = dict_hives[hive].interpolate(method=\"linear\")#interpolate(method=\"ffill\")\n",
    "    dict_hives[hive][\"fob\"] = dict_hives[hive][\"Fob 1st\"] + dict_hives[hive][\"Fob 2nd\"]+ dict_hives[hive][\"Fob 3rd\"]\n",
    "    dict_hives[hive][\"fob\"] = dict_hives[hive][\"fob\"]#.round(0).astype('f')"
   ]
  },
  {
   "cell_type": "code",
   "execution_count": null,
   "id": "babc315d",
   "metadata": {},
   "outputs": [],
   "source": []
  },
  {
   "cell_type": "code",
   "execution_count": null,
   "id": "b8a4f98e",
   "metadata": {},
   "outputs": [],
   "source": []
  },
  {
   "cell_type": "markdown",
   "id": "19c68ba5",
   "metadata": {},
   "source": [
    "# Labels 2022"
   ]
  },
  {
   "cell_type": "code",
   "execution_count": null,
   "id": "19930037",
   "metadata": {},
   "outputs": [],
   "source": [
    "data_2022 = pd.read_csv(\"../data/annotations/inspections_2022.csv\")\n",
    "data_2022.info()"
   ]
  },
  {
   "cell_type": "code",
   "execution_count": null,
   "id": "687233a0",
   "metadata": {},
   "outputs": [],
   "source": [
    "data_2022['Date'] = pd.to_datetime(data_2022['Date'], dayfirst=True).dt.date\n",
    "data_2022 = data_2022.set_index('Date')"
   ]
  },
  {
   "cell_type": "code",
   "execution_count": null,
   "id": "e86e3d8e",
   "metadata": {},
   "outputs": [],
   "source": [
    "data_2022 = data_2022[data_2022['Category'] == 'frames of bees']\n",
    "data_2022['Action detail'] = pd.to_numeric(data_2022['Action detail']) # conver the column from object to float\n",
    "data_2022['Action detail'] = data_2022['Action detail'].astype('f') "
   ]
  },
  {
   "cell_type": "code",
   "execution_count": null,
   "id": "80936af8",
   "metadata": {},
   "outputs": [],
   "source": [
    "data_2022[\"fob\"] = data_2022[\"Action detail\"]"
   ]
  },
  {
   "cell_type": "code",
   "execution_count": null,
   "id": "f18d050b",
   "metadata": {},
   "outputs": [],
   "source": [
    "grouped = data_2022.groupby(['Tag number'])\n",
    "dict_hives_2022 = {}\n",
    "for i in data_2022['Tag number'].unique():\n",
    "        dict_hives_2022[i] = grouped.get_group(i)"
   ]
  },
  {
   "cell_type": "code",
   "execution_count": null,
   "id": "21f7a061",
   "metadata": {},
   "outputs": [],
   "source": [
    "for hive in  data_2022['Tag number'].unique():\n",
    "    idx = pd.date_range(dict_hives_2022[hive].index.min(), dict_hives_2022[hive].index.max() + timedelta (days=1), freq=\"15min\")\n",
    "    dict_hives_2022[hive] = dict_hives_2022[hive].reindex(idx)\n",
    "    dict_hives_2022[hive] = dict_hives_2022[hive].interpolate(method=\"linear\")#interpolate(method=\"ffill\")\n",
    "    dict_hives_2022[hive]['fob'] = dict_hives_2022[hive]['fob']#.round(0).astype('f')"
   ]
  },
  {
   "cell_type": "markdown",
   "id": "abe30cc4",
   "metadata": {},
   "source": [
    "# MFCCs"
   ]
  },
  {
   "cell_type": "code",
   "execution_count": null,
   "id": "9a4dfb31",
   "metadata": {},
   "outputs": [],
   "source": [
    "hives = [6, 3627, 3628, 3629, 3631, 3640, 3690, 3691, 3692, 3693]\n",
    "\n",
    "win = 1600\n",
    "shift = 800\n",
    "\n",
    "df = feature_extraction(feature='mfccs', sample_rate= 16000, n_fft = win,\n",
    "                        hop_length = shift, dict_hives=dict_hives, hives=hives, year=2021, enhancement=False)\n",
    "df.to_pickle(\"../data/features/2021_df_mfccs_win_\" + str(win) +'_shift_' + str(shift) + \"_n_filter_26.pkl\")\n"
   ]
  },
  {
   "cell_type": "code",
   "execution_count": null,
   "id": "f419bb1e",
   "metadata": {},
   "outputs": [],
   "source": [
    "df = feature_extraction(feature='mfccs', sample_rate= 16000, n_fft = win,\n",
    "                        hop_length = shift, dict_hives=dict_hives_2022, hives=hives, year=2022, enhancement=False)\n",
    "df.to_pickle(\"../data/features/2022_df_mfccs_win_\" + str(win) +'_shift_' + str(shift) +\n",
    "             \"_n_filter_26.pkl\")\n"
   ]
  },
  {
   "cell_type": "code",
   "execution_count": null,
   "id": "9f1d68b5",
   "metadata": {},
   "outputs": [],
   "source": [
    "for hive in hives: \n",
    "    df = feature_extraction(feature='mfccs', sample_rate= 16000, n_fft = win,\n",
    "                            hop_length = shift, dict_hives=dict_hives, hives=[hive], year=2021,  enhancement=True)\n",
    "    df.to_pickle(\"../data/features/2021_df_ss_amp_mfccs_win_\" + str(win) +'_shift_' + \n",
    "                 str(shift) +'_' + str(hive) + \"_n_mels_26.pkl\")\n",
    "    "
   ]
  },
  {
   "cell_type": "code",
   "execution_count": null,
   "id": "f8ce9b85",
   "metadata": {},
   "outputs": [],
   "source": [
    "for hive in hives: \n",
    "    df = feature_extraction(feature='mfccs', sample_rate= 16000, n_fft = win,\n",
    "                            hop_length = shift, dict_hives=dict_hives_2022, hives=[hive], year=2022,  enhancement=True)\n",
    "    df.to_pickle(\"../data/features/2022_df_ss_amp_mfccs_win_\" + str(win) +'_shift_' + str(shift) +'_' + str(hive) + \"_n_mels_26.pkl\")\n",
    "    "
   ]
  },
  {
   "cell_type": "markdown",
   "id": "9e0351e7",
   "metadata": {},
   "source": [
    "# LFCC"
   ]
  },
  {
   "cell_type": "code",
   "execution_count": null,
   "id": "8ce0dda8",
   "metadata": {},
   "outputs": [],
   "source": [
    "hives = [6, 3627, 3628, 3629, 3631, 3640, 3690, 3691, 3692, 3693]\n",
    "win=1600\n",
    "shift=800\n",
    "\n",
    "df = feature_extraction(feature='lfccs', sample_rate= 16000, n_fft = win,\n",
    "                        hop_length = shift, dict_hives=dict_hives, hives=hives, year=2021, enhancement=False)\n",
    "df.to_pickle(\"../data//features/2021_df_lfccs_win_\" + str(win) +'_shift_' + str(shift) + \"_n_filter_26.pkl\")\n"
   ]
  },
  {
   "cell_type": "code",
   "execution_count": null,
   "id": "acf43d63",
   "metadata": {},
   "outputs": [],
   "source": [
    "df = feature_extraction(feature='lfccs', sample_rate= 16000, n_fft = win, hop_length = shift, dict_hives=dict_hives_2022, hives=hives, year=2022, enhancement=False)\n",
    "df.to_pickle(\"../data/features/2022_df_lfccs_win_\" + str(win) +'_shift_' + str(shift) + \"_n_filter_26.pkl\")\n"
   ]
  },
  {
   "cell_type": "code",
   "execution_count": null,
   "id": "63733801",
   "metadata": {
    "scrolled": true
   },
   "outputs": [],
   "source": [
    "for hive in hives: \n",
    "    df = feature_extraction(feature='lfccs', sample_rate= 16000, n_fft = win,\n",
    "                            hop_length = shift, dict_hives=dict_hives, hives=[hive], year=2021,  enhancement=True)\n",
    "    df.to_pickle(\"../data/features/2021_df_ss_amp_lfccs_win_\" + str(win) +'_shift_' +\n",
    "                 str(shift) +'_' + str(hive) + \"_n_mels_26.pkl\")"
   ]
  },
  {
   "cell_type": "code",
   "execution_count": null,
   "id": "d13dabfa",
   "metadata": {},
   "outputs": [],
   "source": [
    "for hive in hives: \n",
    "    df = feature_extraction(feature='lfccs', sample_rate= 16000, n_fft = win,\n",
    "                            hop_length = shift, dict_hives=dict_hives_2022, hives=[hive], year=2022,  enhancement=True)\n",
    "    df.to_pickle(\"../data/features/2022_df_ss_amp_lfccs_win_\" + str(win) +'_shift_' +\n",
    "                 str(shift) +'_' + str(hive) + \"_n_mels_26.pkl\")\n",
    "    "
   ]
  },
  {
   "cell_type": "markdown",
   "id": "dace8805",
   "metadata": {},
   "source": [
    "# Spectral features"
   ]
  },
  {
   "cell_type": "code",
   "execution_count": null,
   "id": "8344b42f",
   "metadata": {},
   "outputs": [],
   "source": [
    "hives = [6, 3627, 3628, 3629, 3631, 3640, 3690, 3691, 3692, 3693]\n",
    "\n",
    "\n",
    "df = feature_extraction(feature='spectral_shape_descriptors', sample_rate= 16000, n_fft = 1600,\n",
    "                        hop_length = 800, dict_hives=dict_hives, hives=hives, year=2021, enhancement=False)\n",
    "df.to_pickle(\"../data/features/2021_df_spectral_nine_features.pkl\")\n"
   ]
  },
  {
   "cell_type": "code",
   "execution_count": null,
   "id": "0e8e9b2a",
   "metadata": {},
   "outputs": [],
   "source": [
    "df = feature_extraction(feature='spectral_shape_descriptors', sample_rate= 16000, n_fft = 1600,\n",
    "                        hop_length = 800, dict_hives=dict_hives_2022, hives=hives, year=2022, enhancement=False)\n",
    "df.to_pickle(\"../data/features/2022_df_spectral_nine_features.pkl\")\n"
   ]
  },
  {
   "cell_type": "code",
   "execution_count": null,
   "id": "cdf6aa3b",
   "metadata": {},
   "outputs": [],
   "source": [
    "for hive in hives: \n",
    "    df = feature_extraction(feature='spectral_shape_descriptors', sample_rate= 16000, n_fft = 1600,\n",
    "                            hop_length = 800, dict_hives=dict_hives_2021, hives=[hive], year=2021,  enhancement=True)\n",
    "    df.to_pickle(\"../data/features/2021_df_ss_amp_spectral_nine_features_\" + str(hive) + \".pkl\")\n",
    "    "
   ]
  },
  {
   "cell_type": "code",
   "execution_count": null,
   "id": "1a74734b",
   "metadata": {},
   "outputs": [],
   "source": [
    "for hive in hives: \n",
    "    df = feature_extraction(feature='spectral_shape_descriptors', sample_rate= 16000, n_fft = 1600,\n",
    "                            hop_length = 800, dict_hives=dict_hives_2022, hives=[hive], year=2022,  enhancement=True)\n",
    "    df.to_pickle(\"../data/features/2022_df_ss_amp_spectral_nine_features_\" + str(hive) + \".pkl\")\n",
    "    "
   ]
  },
  {
   "cell_type": "markdown",
   "id": "693bff77",
   "metadata": {},
   "source": [
    "# Hand crafted features"
   ]
  },
  {
   "cell_type": "code",
   "execution_count": null,
   "id": "b8737679",
   "metadata": {},
   "outputs": [],
   "source": [
    "hives = [6, 3627, 3628, 3629, 3631, 3640, 3690, 3691, 3692, 3693]\n",
    "\n",
    "df = feature_extraction(feature='nectar_hand_crafted', sample_rate= 15625, n_fft=512,\n",
    "                        hop_length=512, dict_hives=dict_hives, hives=hives, year=2021, enhancement=False)\n",
    "df.to_pickle(\"../data/features/2021_df_nectar_features.pkl\")\n",
    "\n"
   ]
  },
  {
   "cell_type": "code",
   "execution_count": null,
   "id": "b10d9854",
   "metadata": {},
   "outputs": [],
   "source": [
    "df = feature_extraction(feature='nectar_hand_crafted', sample_rate= 15625, n_fft=512,\n",
    "                        hop_length=512, dict_hives=dict_hives_2022, hives=hives, year=2022, enhancement=False)\n",
    "df.to_pickle(\"../data/features/2022_df_nectar_features.pkl\")\n"
   ]
  },
  {
   "cell_type": "code",
   "execution_count": null,
   "id": "75d0e73f",
   "metadata": {},
   "outputs": [],
   "source": [
    "for hive in hives: \n",
    "    df = feature_extraction(feature='nectar_hand_crafted', sample_rate= 15625, n_fft=512,\n",
    "                            hop_length=512, dict_hives=dict_hives, hives=[hive], year=2021, enhancement=True)\n",
    "    df.to_pickle(\"../data/features/2021_df_ss_amp_hand_crafted_\" + str(hive) + \".pkl\")\n",
    "    "
   ]
  },
  {
   "cell_type": "code",
   "execution_count": null,
   "id": "163ef835",
   "metadata": {},
   "outputs": [],
   "source": [
    "for hive in hives: \n",
    "    df = feature_extraction(feature='nectar_hand_crafted', sample_rate= 15625, n_fft=512,\n",
    "                            hop_length=512, dict_hives=dict_hives_2022, hives=[hive], year=2022, enhancement=True)\n",
    "    df.to_pickle(\"../data/features/2022_df_ss_amp_hand_crafted_\" + str(hive) + \".pkl\")\n",
    "    "
   ]
  },
  {
   "cell_type": "markdown",
   "id": "15c57f84",
   "metadata": {},
   "source": [
    "# Extract statistic"
   ]
  },
  {
   "cell_type": "code",
   "execution_count": null,
   "id": "ca6f4727",
   "metadata": {},
   "outputs": [],
   "source": [
    "win = 1600\n",
    "shift= 800\n",
    "\n",
    "mfccs_2021 = pd.read_pickle(\"../data/features/2021_df_mfccs_win_\" + str(win) +'_shift_' + str(shift) + \"_n_mels_26.pkl\")\n",
    "mfccs_2022 = pd.read_pickle(\"../data/features/2022_df_mfccs_win_\" + str(win) +'_shift_' + str(shift) + \"_n_mels_26.pkl\")\n",
    "\n",
    "\n",
    "mfccs_2021['date'] = pd.to_datetime(mfccs_2021['date'], dayfirst=True)\n",
    "mfccs_2021 = mfccs_2021.set_index(mfccs_2021['date'])\n",
    "mfccs_2021 = mfccs_2021.drop(['date'], axis=1)\n",
    "\n",
    "mfccs_2022['date'] = pd.to_datetime(mfccs_2022['date'], dayfirst=True)\n",
    "mfccs_2022 = mfccs_2022.set_index(mfccs_2022['date'])\n",
    "mfccs_2022 = mfccs_2022.drop(['date'], axis=1)\n",
    "\n",
    "mfccs_feature_2021 = extract_statistic(mfccs_2021, mfccs_2021.columns[3:], 2021, '00:00', '23:00');\n",
    "mfccs_feature_2022 = extract_statistic(mfccs_2022, mfccs_2022.columns[3:], 2022, '00:00', '23:00');\n",
    "mfccs_features = pd.concat([mfccs_feature_2021, mfccs_feature_2022])"
   ]
  },
  {
   "cell_type": "code",
   "execution_count": null,
   "id": "7adfdc3f",
   "metadata": {},
   "outputs": [],
   "source": [
    "win = 1600\n",
    "shift= 800\n",
    "\n",
    "lfccs_2021 = pd.read_pickle(\"../data/features/2021_df_lfccs_win_\" + str(win) +'_shift_' + str(shift) + \"_n_filter_26.pkl\")\n",
    "lfccs_2022 = pd.read_pickle(\"../data/features/2022_df_lfccs_win_\" + str(win) +'_shift_' + str(shift) + \"_n_filter_26.pkl\")\n",
    "\n",
    "\n",
    "lfccs_2021['date'] = pd.to_datetime(lfccs_2021['date'], dayfirst=True)\n",
    "lfccs_2021 = lfccs_2021.set_index(lfccs_2021['date'])\n",
    "lfccs_2021 = lfccs_2021.drop(['date'], axis=1)\n",
    "\n",
    "lfccs_2022['date'] = pd.to_datetime(lfccs_2022['date'], dayfirst=True)\n",
    "lfccs_2022 = lfccs_2022.set_index(lfccs_2022['date'])\n",
    "lfccs_2022 = lfccs_2022.drop(['date'], axis=1)\n",
    "\n",
    "lfccs_feature_2021 = extract_statistic(lfccs_2021, lfccs_2021.columns[3:],  2021, '00:00', '23:00');\n",
    "lfccs_feature_2022 = extract_statistic(lfccs_2022, lfccs_2022.columns[3:], 2022, '00:00', '23:00');\n",
    "lfccs_features = pd.concat([lfccs_feature_2021, lfccs_feature_2022])"
   ]
  },
  {
   "cell_type": "code",
   "execution_count": null,
   "id": "8e9e2060",
   "metadata": {},
   "outputs": [],
   "source": [
    "spectral_2021 = pd.read_pickle(\"../data/features/2021_df_spectral_nine_features.pkl\")\n",
    "spectral_2022 = pd.read_pickle(\"../data/features/2022_df_spectral_nine_features.pkl\")\n",
    "\n",
    "spectral_2021['date'] = pd.to_datetime(spectral_2021['date'], dayfirst=True)\n",
    "spectral_2021 = spectral_2021.set_index(spectral_2021['date'])\n",
    "spectral_2021 = spectral_2021.drop(['date'], axis=1)\n",
    "\n",
    "spectral_2022['date'] = pd.to_datetime(spectral_2022['date'], dayfirst=True)\n",
    "spectral_2022 = spectral_2022.set_index(spectral_2022['date'])\n",
    "spectral_2022 = spectral_2022.drop(['date'], axis=1)\n",
    "\n",
    "spectral_feature_2021 = extract_statistic(spectral_2021, ['centroid', 'spread', 'skewness', 'kurtosis', 'flatness', 'rolloff', 'crest','flux', 'entropy'], 2021, '00:00', '23:00')\n",
    "spectral_feature_2022 = extract_statistic(spectral_2022, ['centroid', 'spread', 'skewness', 'kurtosis', 'flatness', 'rolloff', 'crest','flux', 'entropy'], 2022, '00:00', '23:00')\n",
    "spectral_features = pd.concat([spectral_feature_2021, spectral_feature_2022])"
   ]
  },
  {
   "cell_type": "code",
   "execution_count": null,
   "id": "43fff9b7",
   "metadata": {},
   "outputs": [],
   "source": [
    "hand_crafted_2021 = pd.read_pickle(\"../data/features/2021_df_hand_crafted_features.pkl\")\n",
    "hand_crafted_2022 = pd.read_pickle(\"../data/features/2022_df_hand_crafted_features.pkl\")\n",
    "\n",
    "hand_crafted_2021['date'] = pd.to_datetime(hand_crafted_2021['date'], dayfirst=True)\n",
    "hand_crafted_2021 = hand_crafted_2021.set_index(hand_crafted_2021['date'])\n",
    "hand_crafted_2021 = hand_crafted_2021.drop(['date'], axis=1)\n",
    "\n",
    "hand_crafted_2022['date'] = pd.to_datetime(hand_crafted_2022['date'], dayfirst=True)\n",
    "hand_crafted_2022 = hand_crafted_2022.set_index(hand_crafted_2022['date'])\n",
    "hand_crafted_2022 = hand_crafted_2022.drop(['date'], axis=1)\n",
    "\n",
    "hand_crafted_feature_2021 = extract_statistic(hand_crafted_2021, hand_crafted_2021.columns[3:], 2021, '00:00', '23:00')\n",
    "hand_crafted_feature_2022 = extract_statistic(hand_crafted_2022, hand_crafted_2022.columns[3:], 2022, '00:00', '23:00')\n",
    "hand_crafted_features = pd.concat([hand_crafted_feature_2021, hand_crafted_feature_2022])"
   ]
  },
  {
   "cell_type": "code",
   "execution_count": null,
   "id": "132b5371",
   "metadata": {},
   "outputs": [],
   "source": [
    "win = 1600\n",
    "shift= 800\n",
    "\n",
    "hives = [6, 3627, 3628, 3629, 3631, 3640, 3690, 3691, 3692, 3693]\n",
    "\n",
    "    \n",
    "mfccs_ss_2021=pd.concat(\n",
    "        [pd.read_pickle(f\"../data/features/{2021}_df_ss_amp_mfccs_win_{win}_shift_{shift}_{hive}_n_mels_26.pkl\") \n",
    "         for hive in hives],\n",
    "        ignore_index=True)\n",
    "\n",
    "\n",
    "mfccs_ss_2021['date'] = pd.to_datetime(mfccs_ss_2021['date'], dayfirst=True)\n",
    "mfccs_ss_2021 = mfccs_ss_2021.set_index(mfccs_ss_2021['date'])\n",
    "mfccs_ss_2021 = mfccs_ss_2021.drop(['date'], axis=1)\n",
    "\n",
    "mfccs_ss_2022=pd.concat(\n",
    "        [pd.read_pickle(f\"../data/features/{2022}_df_ss_amp_mfccs_win_{win}_shift_{shift}_{hive}_n_mels_26.pkl\") \n",
    "         for hive in hives],\n",
    "        ignore_index=True)\n",
    "\n",
    "\n",
    "mfccs_ss_2022['date'] = pd.to_datetime(mfccs_ss_2022['date'], dayfirst=True)\n",
    "mfccs_ss_2022 = mfccs_ss_2022.set_index(mfccs_ss_2022['date'])\n",
    "mfccs_ss_2022 = mfccs_ss_2022.drop(['date'], axis=1)\n",
    "\n",
    "\n",
    "mfccs_ss_feature_2021 = extract_statistic(mfccs_ss_2021, mfccs_ss_2021.columns[3:], 2021, '00:00', '23:00');\n",
    "mfccs_ss_feature_2022 = extract_statistic(mfccs_ss_2022, mfccs_ss_2022.columns[3:], 2022, '00:00', '23:00');\n",
    "mfccs_ss_features = pd.concat([mfccs_ss_feature_2021, mfccs_ss_feature_2022])\n",
    "\n"
   ]
  },
  {
   "cell_type": "code",
   "execution_count": null,
   "id": "bc3d00bb",
   "metadata": {},
   "outputs": [],
   "source": [
    "win = 1600\n",
    "shift= 800\n",
    "\n",
    "hives = [6, 3627, 3628, 3629, 3631, 3640, 3690, 3691, 3692, 3693]\n",
    "\n",
    "    \n",
    "lfccs_ss_2021=pd.concat(\n",
    "        [pd.read_pickle(f\"../data/features/{2021}_df_ss_amp_lfccs_win_{win}_shift_{shift}_{hive}_n_mels_26.pkl\") \n",
    "         for hive in hives],\n",
    "        ignore_index=True)\n",
    "\n",
    "lfccs_ss_2021['date'] = pd.to_datetime(lfccs_ss_2021['date'], dayfirst=True)\n",
    "lfccs_ss_2021 = lfccs_ss_2021.set_index(lfccs_ss_2021['date'])\n",
    "lfccs_ss_2021 = lfccs_ss_2021.drop(['date'], axis=1)\n",
    "\n",
    "lfccs_ss_2022=pd.concat(\n",
    "        [pd.read_pickle(f\"../data/features/{2022}_df_ss_amp_lfccs_win_{win}_shift_{shift}_{hive}_n_mels_26.pkl\") \n",
    "         for hive in hives],\n",
    "        ignore_index=True)\n",
    "\n",
    "\n",
    "lfccs_ss_2022['date'] = pd.to_datetime(lfccs_ss_2022['date'], dayfirst=True)\n",
    "lfccs_ss_2022 = lfccs_ss_2022.set_index(lfccs_ss_2022['date'])\n",
    "lfccs_ss_2022 = lfccs_ss_2022.drop(['date'], axis=1)\n",
    "\n",
    "\n",
    "\n",
    "lfccs_ss_feature_2021 = extract_statistic(lfccs_ss_2021, lfccs_ss_2021.columns[3:],  2021, '00:00', '23:00');\n",
    "lfccs_ss_feature_2022 = extract_statistic(lfccs_ss_2022, lfccs_ss_2022.columns[3:], 2022, '00:00', '23:00');\n",
    "lfccs_ss_feature = pd.concat([lfccs_ss_feature_2021, lfccs_ss_feature_2022])\n"
   ]
  },
  {
   "cell_type": "code",
   "execution_count": null,
   "id": "131cca90",
   "metadata": {},
   "outputs": [],
   "source": [
    "\n",
    "hives = [6, 3627, 3628, 3629, 3631, 3640, 3690, 3691, 3692, 3693]\n",
    "\n",
    "    \n",
    "spectral_ss_2021=pd.concat(\n",
    "        [pd.read_pickle(f\"../data/features/{2021}_df_ss_amp_spectral_nine_features_\" + str(hive) + \".pkl\") \n",
    "         for hive in hives],\n",
    "        ignore_index=True)\n",
    "\n",
    "spectral_ss_2021['date'] = pd.to_datetime(spectral_ss_2021['date'], dayfirst=True)\n",
    "spectral_ss_2021 = spectral_ss_2021.set_index(spectral_ss_2021['date'])\n",
    "spectral_ss_2021 = spectral_ss_2021.drop(['date'], axis=1)\n",
    "\n",
    "spectral_ss_2022=pd.concat(\n",
    "        [pd.read_pickle(f\"../data/features/{2022}_df_ss_amp_spectral_nine_features_\" + str(hive) + \".pkl\") \n",
    "         for hive in hives],\n",
    "        ignore_index=True)\n",
    "\n",
    "\n",
    "spectral_ss_2022['date'] = pd.to_datetime(spectral_ss_2022['date'], dayfirst=True)\n",
    "spectral_ss_2022 = spectral_ss_2022.set_index(spectral_ss_2022['date'])\n",
    "spectral_ss_2022 = spectral_ss_2022.drop(['date'], axis=1)\n",
    "\n",
    "spectral_ss_feature_2021 = extract_statistic(spectral_ss_2021, spectral_ss_2021.columns[3:],  2021, '00:00', '23:00');\n",
    "spectral_ss_feature_2022 = extract_statistic(spectral_ss_2022, spectral_ss_2022.columns[3:], 2022, '00:00', '23:00');\n",
    "spectral_ss_feature = pd.concat([spectral_ss_feature_2021, spectral_ss_feature_2022])\n"
   ]
  },
  {
   "cell_type": "code",
   "execution_count": null,
   "id": "2d109a52",
   "metadata": {},
   "outputs": [],
   "source": [
    "\n",
    "hives = [6, 3627, 3628, 3629, 3631, 3640, 3690, 3691, 3692, 3693]\n",
    "\n",
    "    \n",
    "hand_crafted_ss_2021=pd.concat(\n",
    "        [pd.read_pickle(f\"../data/features/{2021}_df_ss_amp_hand_crafted_\" + str(hive) + \".pkl\") \n",
    "         for hive in hives],\n",
    "        ignore_index=True)\n",
    "\n",
    "hand_crafted_ss_2021['date'] = pd.to_datetime(hand_crafted_ss_2021['date'], dayfirst=True)\n",
    "hand_crafted_ss_2021 = hand_crafted_ss_2021.set_index(hand_crafted_ss_2021['date'])\n",
    "hand_crafted_ss_2021 = hand_crafted_ss_2021.drop(['date'], axis=1)\n",
    "\n",
    "hand_crafted_ss_2022=pd.concat(\n",
    "        [pd.read_pickle(f\"../data/features/{2022}_df_ss_amp_hand_crafted_\" + str(hive) + \".pkl\") \n",
    "         for hive in hives],\n",
    "        ignore_index=True)\n",
    "\n",
    "\n",
    "hand_crafted_ss_2022['date'] = pd.to_datetime(hand_crafted_ss_2022['date'], dayfirst=True)\n",
    "hand_crafted_ss_2022 = hand_crafted_ss_2022.set_index(hand_crafted_ss_2022['date'])\n",
    "hand_crafted_ss_2022 = hand_crafted_ss_2022.drop(['date'], axis=1)\n",
    "\n",
    "hand_crafted_ss_feature_2021 = extract_statistic(hand_crafted_ss_2021, hand_crafted_ss_2021.columns[3:],  2021, '00:00', '23:00');\n",
    "hand_crafted_ss_feature_2022 = extract_statistic(hand_crafted_ss_2022, hand_crafted_ss_2022.columns[3:], 2022, '00:00', '23:00');\n",
    "hand_crafted_ss_feature = pd.concat([hand_crafted_ss_feature_2021, hand_crafted_ss_feature_2022])\n"
   ]
  },
  {
   "cell_type": "markdown",
   "id": "a032187f",
   "metadata": {},
   "source": [
    "# Repeat 10 times - Random-split"
   ]
  },
  {
   "cell_type": "code",
   "execution_count": null,
   "id": "8de3c09c",
   "metadata": {},
   "outputs": [],
   "source": [
    "feature = 'mfccs' #nectar, mfccs, lfccs, spectral\n",
    "feature_data = mfccs_features # nectar_features, lfccs_features, mfccs_features, spectral_features "
   ]
  },
  {
   "cell_type": "code",
   "execution_count": null,
   "id": "a5bd8318",
   "metadata": {},
   "outputs": [],
   "source": [
    "model_predictions, y_tests = random_split_evaluation(feature_data, feature=feature, n_iterations=10,\n",
    "                                                     model='random forest')\n"
   ]
  },
  {
   "cell_type": "code",
   "execution_count": null,
   "id": "311f4d9d",
   "metadata": {},
   "outputs": [],
   "source": [
    "random_predictions = random_baseline_metrics(y_tests, n_iterations=10, random_range=(0, 31))\n"
   ]
  },
  {
   "cell_type": "code",
   "execution_count": null,
   "id": "c7c29974",
   "metadata": {},
   "outputs": [],
   "source": [
    "results = evaluate_model_performance(y_tests, random_predictions, model_predictions)\n"
   ]
  },
  {
   "cell_type": "markdown",
   "id": "3a086816",
   "metadata": {},
   "source": [
    "# Repeat 10 times - Independent-split"
   ]
  },
  {
   "cell_type": "code",
   "execution_count": null,
   "id": "f7689dc3",
   "metadata": {},
   "outputs": [],
   "source": [
    "feature = 'mfccs' #hand_crafted, mfccs, lfccs, spectral\n",
    "feature_data = mfccs_features # hand_crafted_features, lfccs_features, mfccs_features, spectral_features "
   ]
  },
  {
   "cell_type": "code",
   "execution_count": null,
   "id": "9822bbc1",
   "metadata": {},
   "outputs": [],
   "source": [
    "initial_train_hives = [3628, 3631, 6, 3640, 3693] \n",
    "initial_test_hives = [3692, 3690]\n",
    "initial_val_hives = [3691, 3627]\n",
    "\n",
    "model_predictions, y_tests = independent_split_evaluation(feature_data, feature=feature,\n",
    "                                                          initial_train_hives, initial_val_hives,\n",
    "                                                          initial_test_hives, n_iterations=10,\n",
    "                                                          model='random forest')"
   ]
  },
  {
   "cell_type": "code",
   "execution_count": null,
   "id": "dfcc8ad2",
   "metadata": {},
   "outputs": [],
   "source": [
    "random_predictions = random_baseline_metrics(y_tests, n_iterations=10, random_range=(0, 31))\n"
   ]
  },
  {
   "cell_type": "code",
   "execution_count": null,
   "id": "ebf079ca",
   "metadata": {},
   "outputs": [],
   "source": [
    "results = evaluate_model_performance(y_tests, random_predictions, model_predictions)\n"
   ]
  },
  {
   "cell_type": "code",
   "execution_count": null,
   "id": "23b0fb36",
   "metadata": {},
   "outputs": [],
   "source": []
  }
 ],
 "metadata": {
  "kernelspec": {
   "display_name": "conda_env_3_8",
   "language": "python",
   "name": "conda_env_3_8"
  },
  "language_info": {
   "codemirror_mode": {
    "name": "ipython",
    "version": 3
   },
   "file_extension": ".py",
   "mimetype": "text/x-python",
   "name": "python",
   "nbconvert_exporter": "python",
   "pygments_lexer": "ipython3",
   "version": "3.8.16"
  }
 },
 "nbformat": 4,
 "nbformat_minor": 5
}
